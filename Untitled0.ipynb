{
  "nbformat": 4,
  "nbformat_minor": 0,
  "metadata": {
    "colab": {
      "provenance": [],
      "collapsed_sections": [],
      "authorship_tag": "ABX9TyMI8xs6uexfBf36UmrVCA24",
      "include_colab_link": true
    },
    "kernelspec": {
      "name": "python3",
      "display_name": "Python 3"
    },
    "language_info": {
      "name": "python"
    }
  },
  "cells": [
    {
      "cell_type": "markdown",
      "metadata": {
        "id": "view-in-github",
        "colab_type": "text"
      },
      "source": [
        "<a href=\"https://colab.research.google.com/github/HPotty36/class2022Fall/blob/main/Untitled0.ipynb\" target=\"_parent\"><img src=\"https://colab.research.google.com/assets/colab-badge.svg\" alt=\"Open In Colab\"/></a>"
      ]
    },
    {
      "cell_type": "code",
      "execution_count": 5,
      "metadata": {
        "colab": {
          "base_uri": "https://localhost:8080/"
        },
        "id": "wmpiovMCEdgv",
        "outputId": "76183203-08db-4a93-aa57-372fc7e2990f"
      },
      "outputs": [
        {
          "output_type": "stream",
          "name": "stdout",
          "text": [
            "2.2\n"
          ]
        }
      ],
      "source": [
        "#변수 = meaning\n",
        "a = '1'\n",
        "b = 2.2\n",
        "c = [2, 3, 'abc']\n",
        "#변수 이름을 assign\n",
        "print(b)"
      ]
    },
    {
      "cell_type": "code",
      "source": [
        "#코드줄을 새로 넣기\n",
        "#한 줄을 cell이라고 함\n",
        "#code cell은 play 버튼을 누르면 실행됨\n",
        "#폴더 누르면 현재 작업중인 구글 컴퓨터의 directory 보임\n",
        "#폴더 위의 variable을 누르면 변수의 상황 보여줌\n",
        "#글자 처리는 따옴표로 ex) '1'\n",
        "#string (str)이 글자라는 뜻, int(integer?)는 정수라는 뜻\n",
        "#변수 여러 개를 묶어놓는 것 = list\n",
        "#함수(입출력이 있는 것) - 영어 글자 옆에 괄호가 있는 형태\n"
      ],
      "metadata": {
        "id": "hfSo9yytFdQw"
      },
      "execution_count": null,
      "outputs": []
    }
  ]
}