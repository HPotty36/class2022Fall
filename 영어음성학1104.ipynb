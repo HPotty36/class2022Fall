{
  "nbformat": 4,
  "nbformat_minor": 0,
  "metadata": {
    "colab": {
      "provenance": [],
      "collapsed_sections": [],
      "authorship_tag": "ABX9TyMXcVZ3I63KzgA0O9pnqSEK",
      "include_colab_link": true
    },
    "kernelspec": {
      "name": "python3",
      "display_name": "Python 3"
    },
    "language_info": {
      "name": "python"
    }
  },
  "cells": [
    {
      "cell_type": "markdown",
      "metadata": {
        "id": "view-in-github",
        "colab_type": "text"
      },
      "source": [
        "<a href=\"https://colab.research.google.com/github/HPotty36/class2022Fall/blob/main/%EC%98%81%EC%96%B4%EC%9D%8C%EC%84%B1%ED%95%991104.ipynb\" target=\"_parent\"><img src=\"https://colab.research.google.com/assets/colab-badge.svg\" alt=\"Open In Colab\"/></a>"
      ]
    },
    {
      "cell_type": "code",
      "execution_count": 5,
      "metadata": {
        "colab": {
          "base_uri": "https://localhost:8080/"
        },
        "id": "wmpiovMCEdgv",
        "outputId": "76183203-08db-4a93-aa57-372fc7e2990f"
      },
      "outputs": [
        {
          "output_type": "stream",
          "name": "stdout",
          "text": [
            "2.2\n"
          ]
        }
      ],
      "source": [
        "#변수 = meaning\n",
        "a = '1'\n",
        "b = 2.2\n",
        "c = [2, 3, 'abc']\n",
        "#변수 이름을 assign\n",
        "print(b)"
      ]
    },
    {
      "cell_type": "code",
      "source": [
        "type(a)\n",
        "a = '123'\n",
        "a[0]\n",
        "a = 'hello'; print(type(a));print(a[1])"
      ],
      "metadata": {
        "colab": {
          "base_uri": "https://localhost:8080/"
        },
        "id": "7glE4brNLJna",
        "outputId": "26a028cf-b36c-4dee-ef65-e9c3034e9501"
      },
      "execution_count": 10,
      "outputs": [
        {
          "output_type": "stream",
          "name": "stdout",
          "text": [
            "<class 'str'>\n",
            "e\n"
          ]
        }
      ]
    },
    {
      "cell_type": "code",
      "source": [
        "a = [1,2,'ab',4]; print(type(a)); print(a[1])\n",
        "#0번째, 1번째, ... 순서대로 나열됨 - print(a[1])은 a의 1번째 (두번째) print해줌"
      ],
      "metadata": {
        "colab": {
          "base_uri": "https://localhost:8080/"
        },
        "id": "wnycejJWMwkk",
        "outputId": "cc1d9e38-23a8-4880-8101-01b272eeb4b5"
      },
      "execution_count": 13,
      "outputs": [
        {
          "output_type": "stream",
          "name": "stdout",
          "text": [
            "<class 'list'>\n",
            "2\n"
          ]
        }
      ]
    },
    {
      "cell_type": "code",
      "source": [
        "a = [1,'a',[3,'4']]; print(type(a)); print(a[0]); print(a[2])"
      ],
      "metadata": {
        "colab": {
          "base_uri": "https://localhost:8080/"
        },
        "id": "jD6DF4C3NNmg",
        "outputId": "4eb7fc2d-efa8-416a-e4b8-7081a8b55bc0"
      },
      "execution_count": 14,
      "outputs": [
        {
          "output_type": "stream",
          "name": "stdout",
          "text": [
            "<class 'list'>\n",
            "1\n",
            "[3, '4']\n"
          ]
        }
      ]
    },
    {
      "cell_type": "code",
      "source": [
        "a = {'a': 85, 'b' : 94, 'c': 20}\n",
        "print(type(a))\n",
        "print(a['a'])"
      ],
      "metadata": {
        "colab": {
          "base_uri": "https://localhost:8080/"
        },
        "id": "qo-hg5QlOr9c",
        "outputId": "460a116e-93e1-4b27-fc82-08e0153dcd8e"
      },
      "execution_count": 16,
      "outputs": [
        {
          "output_type": "stream",
          "name": "stdout",
          "text": [
            "<class 'dict'>\n",
            "85\n"
          ]
        }
      ]
    },
    {
      "cell_type": "code",
      "source": [
        "s = 'abcdef'\n",
        "print(s[0],s[-1],s[-6])\n",
        "#마이너스 n은 끝에서 n번째\n",
        "print(s[1:3],s[1:],s[:3],s[:])\n",
        "#마지막 빈칸은 처음부터 끝까지\n",
        "#왼쪽이 n번째에서부터, 오른쪽이 n번째 빼고"
      ],
      "metadata": {
        "colab": {
          "base_uri": "https://localhost:8080/"
        },
        "id": "N8fMOfTtP-iH",
        "outputId": "8febf403-a556-4d86-c8a8-1b9d1ce04cf5"
      },
      "execution_count": 18,
      "outputs": [
        {
          "output_type": "stream",
          "name": "stdout",
          "text": [
            "a f a\n",
            "bc bcdef abc abcdef\n"
          ]
        }
      ]
    },
    {
      "cell_type": "code",
      "source": [
        "s = 'abcdef'\n",
        "len(s)\n",
        "#길이라는 뜻\n",
        "#모르겠으면 python len 이렇게 구글링\n",
        "s.upper()\n"
      ],
      "metadata": {
        "colab": {
          "base_uri": "https://localhost:8080/",
          "height": 35
        },
        "id": "DZ3sI3-ARQ1Y",
        "outputId": "9da574ce-5b39-4f30-cf75-d302571fcc63"
      },
      "execution_count": 20,
      "outputs": [
        {
          "output_type": "execute_result",
          "data": {
            "text/plain": [
              "'ABCDEF'"
            ],
            "application/vnd.google.colaboratory.intrinsic+json": {
              "type": "string"
            }
          },
          "metadata": {},
          "execution_count": 20
        }
      ]
    },
    {
      "cell_type": "code",
      "source": [
        "'this is a house built this year'\n",
        "tokens = s.split('') # split s into a list\n",
        "tokens"
      ],
      "metadata": {
        "colab": {
          "base_uri": "https://localhost:8080/",
          "height": 201
        },
        "id": "E6pj4ofGTw3W",
        "outputId": "0b524ee6-c10e-4cbf-a8c2-af6c7093cdb5"
      },
      "execution_count": 22,
      "outputs": [
        {
          "output_type": "error",
          "ename": "ValueError",
          "evalue": "ignored",
          "traceback": [
            "\u001b[0;31m---------------------------------------------------------------------------\u001b[0m",
            "\u001b[0;31mValueError\u001b[0m                                Traceback (most recent call last)",
            "\u001b[0;32m<ipython-input-22-cd368bd3ff03>\u001b[0m in \u001b[0;36m<module>\u001b[0;34m\u001b[0m\n\u001b[1;32m      1\u001b[0m \u001b[0ms\u001b[0m \u001b[0;34m=\u001b[0m \u001b[0;34m'this is a house built this year'\u001b[0m\u001b[0;34m\u001b[0m\u001b[0;34m\u001b[0m\u001b[0m\n\u001b[0;32m----> 2\u001b[0;31m \u001b[0mtokens\u001b[0m \u001b[0;34m=\u001b[0m \u001b[0ms\u001b[0m\u001b[0;34m.\u001b[0m\u001b[0msplit\u001b[0m\u001b[0;34m(\u001b[0m\u001b[0;34m''\u001b[0m\u001b[0;34m)\u001b[0m \u001b[0;31m# split s into a list\u001b[0m\u001b[0;34m\u001b[0m\u001b[0;34m\u001b[0m\u001b[0m\n\u001b[0m\u001b[1;32m      3\u001b[0m \u001b[0mtokens\u001b[0m\u001b[0;34m\u001b[0m\u001b[0;34m\u001b[0m\u001b[0m\n",
            "\u001b[0;31mValueError\u001b[0m: empty separator"
          ]
        }
      ]
    },
    {
      "cell_type": "code",
      "source": [
        "#변수(=단어)는 크게 두 가지 (문자, 숫자), 합치면 list\n",
        "#dictionary - 00의 수학점수 같이 이름을 붙여주는\n",
        "#1차원의 정보가 list, 2차원의 정보가 dictionary\n",
        "#comment out - 주석으로 만들어서 실행 못하게\n"
      ],
      "metadata": {
        "id": "1uA6SNAONd45"
      },
      "execution_count": null,
      "outputs": []
    },
    {
      "cell_type": "code",
      "source": [
        "#코드줄을 새로 넣기\n",
        "#한 줄을 cell이라고 함\n",
        "#code cell은 play 버튼을 누르면 실행됨\n",
        "#폴더 누르면 현재 작업중인 구글 컴퓨터의 directory 보임\n",
        "#폴더 위의 variable을 누르면 변수의 상황 보여줌\n",
        "#글자 처리는 따옴표로 ex) '1'\n",
        "#string (str)이 글자라는 뜻, int(integer?)는 정수라는 뜻\n",
        "#변수 여러 개를 묶어놓는 것 = list\n",
        "#함수(입출력이 있는 것) - 영어 글자 옆에 괄호가 있는 형태\n"
      ],
      "metadata": {
        "id": "hfSo9yytFdQw"
      },
      "execution_count": null,
      "outputs": []
    },
    {
      "cell_type": "code",
      "source": [
        "a = {1, 2, 3, 4}\n",
        "for i in a:\n",
        "  print(i)\n",
        "#for: in 다음에 list 변수가 들어가면 됨\n",
        "#indent를 해줘야 - 앞줄에서 enter 누르면 되기도 하고\n",
        "# == - 진짜 같다는 의미\n",
        "a = 0\n",
        "if a == 0:\n",
        "  print(a)"
      ],
      "metadata": {
        "colab": {
          "base_uri": "https://localhost:8080/"
        },
        "id": "k5g9h_w-W0E2",
        "outputId": "b500905d-277a-42e4-c730-cd07a59b54a1"
      },
      "execution_count": 31,
      "outputs": [
        {
          "output_type": "stream",
          "name": "stdout",
          "text": [
            "1\n",
            "2\n",
            "3\n",
            "4\n",
            "0\n"
          ]
        }
      ]
    },
    {
      "cell_type": "code",
      "source": [
        "for i in range(1, 3):\n",
        "  for j in range(3, 5):\n",
        "    print(i*j)"
      ],
      "metadata": {
        "colab": {
          "base_uri": "https://localhost:8080/"
        },
        "id": "KzaTNA5-Ylb5",
        "outputId": "1d5c5997-1ed0-4359-8fb7-394fc6242884"
      },
      "execution_count": 30,
      "outputs": [
        {
          "output_type": "stream",
          "name": "stdout",
          "text": [
            "3\n",
            "4\n",
            "6\n",
            "8\n"
          ]
        }
      ]
    },
    {
      "cell_type": "code",
      "source": [
        "a = [1, 2, 3, 4]\n",
        "b = [i for i in a if i>=2]\n",
        "b\n",
        "# list comprehension"
      ],
      "metadata": {
        "colab": {
          "base_uri": "https://localhost:8080/"
        },
        "id": "MLgj6U8KZ-O9",
        "outputId": "0cd5bf3d-509d-48ad-b62a-1a30c858df7f"
      },
      "execution_count": 33,
      "outputs": [
        {
          "output_type": "execute_result",
          "data": {
            "text/plain": [
              "[2, 3, 4]"
            ]
          },
          "metadata": {},
          "execution_count": 33
        }
      ]
    },
    {
      "cell_type": "code",
      "source": [
        "a = ['red', 'green', 'blue', 'purple']\n",
        "b = [i for i in a if len(i)>=4]\n",
        "b"
      ],
      "metadata": {
        "colab": {
          "base_uri": "https://localhost:8080/"
        },
        "id": "QJwudeMjaR5W",
        "outputId": "6b78fa0f-b5ca-48f9-c686-703f69b302a6"
      },
      "execution_count": 34,
      "outputs": [
        {
          "output_type": "execute_result",
          "data": {
            "text/plain": [
              "['green', 'blue', 'purple']"
            ]
          },
          "metadata": {},
          "execution_count": 34
        }
      ]
    },
    {
      "cell_type": "code",
      "source": [
        "def add(a,b):\n",
        "  c = a+b\n",
        "  return c"
      ],
      "metadata": {
        "id": "gztEKkRydKej"
      },
      "execution_count": 39,
      "outputs": []
    }
  ]
}