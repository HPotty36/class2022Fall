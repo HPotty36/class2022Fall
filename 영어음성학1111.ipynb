{
  "nbformat": 4,
  "nbformat_minor": 0,
  "metadata": {
    "colab": {
      "provenance": [],
      "authorship_tag": "ABX9TyOr/sWnCnHyNhA8vheSFTAg",
      "include_colab_link": true
    },
    "kernelspec": {
      "name": "python3",
      "display_name": "Python 3"
    },
    "language_info": {
      "name": "python"
    }
  },
  "cells": [
    {
      "cell_type": "markdown",
      "metadata": {
        "id": "view-in-github",
        "colab_type": "text"
      },
      "source": [
        "<a href=\"https://colab.research.google.com/github/HPotty36/class2022Fall/blob/main/%EC%98%81%EC%96%B4%EC%9D%8C%EC%84%B1%ED%95%991111.ipynb\" target=\"_parent\"><img src=\"https://colab.research.google.com/assets/colab-badge.svg\" alt=\"Open In Colab\"/></a>"
      ]
    },
    {
      "cell_type": "code",
      "execution_count": null,
      "metadata": {
        "id": "nes-6j6CFUIO"
      },
      "outputs": [],
      "source": [
        "#파이썬크롤링 \n",
        "#BeautifulSoup을 사용해서 정보 뽑아오기\n",
        "#bookid는 홈페이지 주소의 숫자 - 이거를 입력해주고\n",
        "#변수 = 내용의 형태\n",
        "#for loop 다시 보기\n",
        "#제공하는 사람은 서버 컴퓨터, 쓰는 사람은 클라이언트 컴퓨터\n",
        "#request를 하는 과정이 있어야 하는데 리퀘스트할 때도 rest라고 request 보내는 방식이 표준\n",
        "#nlp(자연어 처리)\n",
        "#엑셀 타입은 무조건 행과 열로 - 엑셀처럼\n",
        "#numpy - pandas와 비슷 (pandas는 숫자와 비슷?)\n",
        "#numpy는 엑셀같이 생겼지만 숫자만 있는 거 - array\n",
        "#numpy는 숫자 pandas\n",
        "#pandas는 행과 열만, numpy는 3, 4차원 등 다 가능\n",
        "#2차원으로 된 숫자는 행렬, 3,4차원 등은 tensor\n",
        "#numpy\n"
      ]
    },
    {
      "cell_type": "code",
      "source": [
        "#numpy - create nd arrays (~matrices)\n",
        "import numpy as np #np는 numpy 패키지 안의 array 함수를 쓰려는 거\n",
        "x = np.array([1,2,3]) #list와 같음 - list는 숫자를 가정하지 않기 때문에 array로 해야 진짜 숫자 보장됨\n",
        "print(x)\n",
        "print(type(x))\n",
        "print(x.shape) #3개짜리 1D Array"
      ],
      "metadata": {
        "colab": {
          "base_uri": "https://localhost:8080/"
        },
        "id": "3zlQGLuyQrgd",
        "outputId": "694ec4f3-a740-4ebc-d7d5-380a0663b435"
      },
      "execution_count": null,
      "outputs": [
        {
          "output_type": "stream",
          "name": "stdout",
          "text": [
            "[1 2 3]\n",
            "<class 'numpy.ndarray'>\n",
            "(3,)\n"
          ]
        }
      ]
    },
    {
      "cell_type": "code",
      "source": [
        "x = np.arange(0,10,2) #0에서 10까지 2만큼 띄어서, 10 포함 x\n",
        "print(x)\n",
        "print(type(x))\n",
        "print(x.shape)"
      ],
      "metadata": {
        "colab": {
          "base_uri": "https://localhost:8080/"
        },
        "id": "6TdMXG5_SSiR",
        "outputId": "38f6b84b-f40b-413a-e2cd-5c4d6af21707"
      },
      "execution_count": null,
      "outputs": [
        {
          "output_type": "stream",
          "name": "stdout",
          "text": [
            "[0 2 4 6 8]\n",
            "<class 'numpy.ndarray'>\n",
            "(5,)\n"
          ]
        }
      ]
    },
    {
      "cell_type": "code",
      "source": [
        "x = np.linspace(0,10,6) #10도 포함해서 6개로 등분\n",
        "print(x)\n",
        "print(type(x))\n",
        "print(x.shape)"
      ],
      "metadata": {
        "colab": {
          "base_uri": "https://localhost:8080/"
        },
        "id": "R-LXPSDHSnbJ",
        "outputId": "657e8f03-e8ba-4f1a-fd52-70f1e06e2504"
      },
      "execution_count": null,
      "outputs": [
        {
          "output_type": "stream",
          "name": "stdout",
          "text": [
            "[ 0.  2.  4.  6.  8. 10.]\n",
            "<class 'numpy.ndarray'>\n",
            "(6,)\n"
          ]
        }
      ]
    },
    {
      "cell_type": "code",
      "source": [
        "x = np.ones([2,2,3]) #2x2x3의 3차원\n",
        "print(x)\n",
        "print(type(x))\n",
        "print(x.shape)"
      ],
      "metadata": {
        "colab": {
          "base_uri": "https://localhost:8080/"
        },
        "id": "adCcT2cjS-pM",
        "outputId": "e1449967-b57c-419e-9045-b9fdad2f3688"
      },
      "execution_count": null,
      "outputs": [
        {
          "output_type": "stream",
          "name": "stdout",
          "text": [
            "[[[1. 1. 1.]\n",
            "  [1. 1. 1.]]\n",
            "\n",
            " [[1. 1. 1.]\n",
            "  [1. 1. 1.]]]\n",
            "<class 'numpy.ndarray'>\n",
            "(2, 2, 3)\n"
          ]
        }
      ]
    },
    {
      "cell_type": "code",
      "source": [
        "x = np.zeros([2,2,3])\n",
        "print(x)\n",
        "print(type(x))\n",
        "print(x.shape)\n",
        "x.reshape(3,2,2) #형태 바꾸기"
      ],
      "metadata": {
        "colab": {
          "base_uri": "https://localhost:8080/"
        },
        "id": "NIoOHirlTOW5",
        "outputId": "432dd499-790a-40e4-f65a-b94a403f7d0b"
      },
      "execution_count": null,
      "outputs": [
        {
          "output_type": "stream",
          "name": "stdout",
          "text": [
            "[[[0. 0. 0.]\n",
            "  [0. 0. 0.]]\n",
            "\n",
            " [[0. 0. 0.]\n",
            "  [0. 0. 0.]]]\n",
            "<class 'numpy.ndarray'>\n",
            "(2, 2, 3)\n"
          ]
        },
        {
          "output_type": "execute_result",
          "data": {
            "text/plain": [
              "array([[[0., 0.],\n",
              "        [0., 0.]],\n",
              "\n",
              "       [[0., 0.],\n",
              "        [0., 0.]],\n",
              "\n",
              "       [[0., 0.],\n",
              "        [0., 0.]]])"
            ]
          },
          "metadata": {},
          "execution_count": 9
        }
      ]
    },
    {
      "cell_type": "code",
      "source": [
        "np.random.normal(0,1,[2,3,4])"
      ],
      "metadata": {
        "colab": {
          "base_uri": "https://localhost:8080/"
        },
        "id": "pL9zcIpuUWXh",
        "outputId": "f794b4f9-aeac-4f06-f26a-dd765ccffe82"
      },
      "execution_count": null,
      "outputs": [
        {
          "output_type": "execute_result",
          "data": {
            "text/plain": [
              "array([[[-0.26704339,  0.3388553 ,  0.77396153, -0.32884716],\n",
              "        [ 0.18402406,  1.89355115,  0.15009734, -1.70918309],\n",
              "        [ 0.10200963,  1.33574464,  1.57192093,  0.29810281]],\n",
              "\n",
              "       [[ 0.07836414, -0.00501222,  0.52732696,  0.12958504],\n",
              "        [ 0.11015282,  1.81322957,  1.98622435,  0.01733307],\n",
              "        [-0.76854232, -0.73966898, -0.08726279, -1.04986197]]])"
            ]
          },
          "metadata": {},
          "execution_count": 10
        }
      ]
    },
    {
      "cell_type": "code",
      "source": [
        "import matplotlib.pyplot as plt #matplotlib 안의 pyplot이라는 폴더 불러오기"
      ],
      "metadata": {
        "id": "uY_8xpfqUwkj"
      },
      "execution_count": null,
      "outputs": []
    },
    {
      "cell_type": "code",
      "source": [
        "x = np.random.normal(0, 1, 100)\n",
        "#y축 값 다 합치면 100 - 빈도니까\n"
      ],
      "metadata": {
        "id": "i_7OVR4_U94T"
      },
      "execution_count": null,
      "outputs": []
    },
    {
      "cell_type": "code",
      "source": [
        "import pandas as pd\n"
      ],
      "metadata": {
        "id": "ssU6YsNoeGd4"
      },
      "execution_count": 15,
      "outputs": []
    }
  ]
}